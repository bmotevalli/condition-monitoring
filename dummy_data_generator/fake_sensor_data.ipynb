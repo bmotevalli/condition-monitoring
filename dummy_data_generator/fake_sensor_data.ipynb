{
 "cells": [
  {
   "cell_type": "code",
   "execution_count": 63,
   "metadata": {},
   "outputs": [],
   "source": [
    "import random\n",
    "import numpy as np\n",
    "import json\n",
    "import pandas as pd\n",
    "\n",
    "import os\n",
    "import datetime\n"
   ]
  },
  {
   "cell_type": "code",
   "execution_count": 12,
   "metadata": {},
   "outputs": [],
   "source": [
    "from faker import Faker\n",
    "fake = Faker()"
   ]
  },
  {
   "cell_type": "code",
   "execution_count": 35,
   "metadata": {},
   "outputs": [],
   "source": [
    "Faker.seed(0)"
   ]
  },
  {
   "cell_type": "code",
   "execution_count": 79,
   "metadata": {},
   "outputs": [],
   "source": [
    "sensTypes = {\n",
    "    \"pressure\": {\n",
    "        \"sampleRate\": 3600,\n",
    "        \"dim\": [\n",
    "            {\"name\": \"P\", \"range\": [100, 200]}\n",
    "        ]\n",
    "    }, \n",
    "    \"temperature\":{\n",
    "        \"sampleRate\": 3600,\n",
    "        \"dim\": [\n",
    "            {\"name\":\"T\", \"range\": [800, 1200]}\n",
    "        ]\n",
    "    }, \n",
    "    \"vibration\": {\n",
    "        \"sampleRate\": 60,\n",
    "        \"dim\": [\n",
    "            {\"name\":\"X\", \"range\": [-1, 1]}, \n",
    "            {\"name\":\"Vel\", \"range\": [-1, 1]}, \n",
    "            {\"name\":\"Acc\", \"range\": [-1,1]}\n",
    "        ]\n",
    "    }\n",
    "}"
   ]
  },
  {
   "cell_type": "code",
   "execution_count": 53,
   "metadata": {},
   "outputs": [],
   "source": [
    "conditions = {\n",
    "    \"normal\":None, \n",
    "    \"unnormal\":None, \n",
    "    \"faulty\": None, \n",
    "    \"critical\":None, \n",
    "    \"shutdown\":None\n",
    "}"
   ]
  },
  {
   "cell_type": "code",
   "execution_count": 72,
   "metadata": {},
   "outputs": [],
   "source": [
    "def addSecs(tm, secs = 60):\n",
    "    fulldate = datetime.datetime(tm., 1, 1, tm.hour, tm.minute, tm.second)\n",
    "    fulldate = fulldate + datetime.timedelta(seconds=secs)\n",
    "    return fulldate"
   ]
  },
  {
   "cell_type": "code",
   "execution_count": 58,
   "metadata": {},
   "outputs": [],
   "source": [
    "def selectRandItem(items):\n",
    "    \n",
    "    lst_keys = list(items.keys())\n",
    "    return lst_keys[random.randint(0, len(lst_keys) - 1)]\n",
    "    "
   ]
  },
  {
   "cell_type": "code",
   "execution_count": 92,
   "metadata": {},
   "outputs": [],
   "source": [
    "def initiate_sensor(machineId, num=10):\n",
    "    \n",
    "    lst_sensors = []\n",
    "    for i in range(num):\n",
    "        lst_sensors.append({\n",
    "            \"sensId\": f\"{machineId}_{i+1}\",\n",
    "            \"senstype\": selectRandItem(sensTypes),\n",
    "            \"name\": fake.domain_word(),\n",
    "            \"tolerance\": random.uniform(0.001, 0.000001),\n",
    "            \"histData\": []\n",
    "        })\n",
    "\n",
    "    return lst_sensors"
   ]
  },
  {
   "cell_type": "code",
   "execution_count": 89,
   "metadata": {},
   "outputs": [],
   "source": [
    "def initiate_machine(num = 10):\n",
    "    \n",
    "    lst_machines = []    \n",
    "    for i in range(num):\n",
    "        latlng = fake.latlng()\n",
    "        num_sens = random.randint(10, 20)\n",
    "        mach = {\n",
    "            \"coordinate\": {\"lat\": float(latlng[0]), \"lng\": float(latlng[1])},\n",
    "            \"machId\": f\"{i + 1}\",\n",
    "            \"name\": fake.domain_word(),\n",
    "            \"state\": {\n",
    "                \"condition\": selectRandItem(conditions),\n",
    "                \"availability\": bool(random.randint(0,1)),\n",
    "                \"powerproduction\": []\n",
    "            }\n",
    "        }\n",
    "        \n",
    "        mach[\"sensors\"] = initiate_sensor(mach[\"machId\"], num= num_sens)\n",
    "        \n",
    "        lst_machines.append(mach)\n",
    "        \n",
    "    return lst_machines"
   ]
  },
  {
   "cell_type": "markdown",
   "metadata": {},
   "source": [
    "# Setup Machines and Sensors"
   ]
  },
  {
   "cell_type": "code",
   "execution_count": 104,
   "metadata": {},
   "outputs": [],
   "source": [
    "lst_machs = initiate_machine(num = 15)"
   ]
  },
  {
   "cell_type": "markdown",
   "metadata": {},
   "source": [
    "# Generate Sensor Data for Machines"
   ]
  },
  {
   "cell_type": "code",
   "execution_count": 99,
   "metadata": {},
   "outputs": [],
   "source": [
    "def generate_sens_data(currSensType, currTime):\n",
    "    \n",
    "    sampleRate = sensTypes[currSensType][\"sampleRate\"]\n",
    "    \n",
    "    val = {}\n",
    "    if currTime%sampleRate == 0:        \n",
    "        for sens in sensTypes[currSensType][\"dim\"]:\n",
    "            minVal = sens[\"range\"][0]\n",
    "            maxVal = sens[\"range\"][1]\n",
    "            val[sens[\"name\"]] = random.uniform(minVal, maxVal)\n",
    "            \n",
    "    return val\n",
    "    "
   ]
  },
  {
   "cell_type": "code",
   "execution_count": 105,
   "metadata": {
    "scrolled": true
   },
   "outputs": [],
   "source": [
    "num_days         = 1\n",
    "sampleDate       = datetime.datetime(2020,1,1,12,0,0)\n",
    "maxSampleTimeSec = num_days * 24 * 3600\n",
    "\n",
    "powerprod_interval = 3600\n",
    "powerprod_range    = [50, 100]\n",
    "\n",
    "tot_time   = 0\n",
    "delta_time = 60\n",
    "while (tot_time < maxSampleTimeSec):\n",
    "    \n",
    "    for mach in lst_machs:\n",
    "        \n",
    "        if tot_time%powerprod_interval:\n",
    "            \n",
    "            mach[\"state\"][\"powerproduction\"].append({\n",
    "                \"timestamp\": str(sampleDate),\n",
    "                \"power\": random.uniform(\n",
    "                    powerprod_range[0], \n",
    "                    powerprod_range[1]\n",
    "                )\n",
    "            })\n",
    "            \n",
    "            for sens in mach[\"sensors\"]:\n",
    "                sens_val = generate_sens_data(sens[\"senstype\"], tot_time)\n",
    "                if (sens_val):\n",
    "                    sens[\"histData\"].append({\n",
    "                        \"timestamp\": str(sampleDate),\n",
    "                        \"value\": sens_val\n",
    "                    })\n",
    "    \n",
    "    tot_time += delta_time\n",
    "    sampleDate +=  datetime.timedelta(seconds=delta_time)"
   ]
  },
  {
   "cell_type": "code",
   "execution_count": 107,
   "metadata": {},
   "outputs": [],
   "source": [
    "with open('sensordata.json', 'w') as fp:\n",
    "    json.dump(lst_machs, fp, sort_keys=True, indent=4, separators=(',', ': '))"
   ]
  },
  {
   "cell_type": "code",
   "execution_count": null,
   "metadata": {},
   "outputs": [],
   "source": []
  }
 ],
 "metadata": {
  "kernelspec": {
   "display_name": "Python 3",
   "language": "python",
   "name": "python3"
  },
  "language_info": {
   "codemirror_mode": {
    "name": "ipython",
    "version": 3
   },
   "file_extension": ".py",
   "mimetype": "text/x-python",
   "name": "python",
   "nbconvert_exporter": "python",
   "pygments_lexer": "ipython3",
   "version": "3.7.7"
  }
 },
 "nbformat": 4,
 "nbformat_minor": 2
}
